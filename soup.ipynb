{
 "cells": [
  {
   "cell_type": "code",
   "execution_count": null,
   "id": "81d5ab2c-f095-4f67-9864-3b60698dff74",
   "metadata": {},
   "outputs": [],
   "source": [
    "import bs4, re\n",
    "from bs4 import BeautifulSoup as soup\n",
    "import requests\n",
    "\n",
    "URL = \"https://www.musicgenreslist.com/\"\n",
    "page = requests.get(URL)\n",
    "html = page.content\n",
    "s = soup(html, \"html.parser\")"
   ]
  },
  {
   "cell_type": "code",
   "execution_count": null,
   "id": "5e1fe73c-edfa-49b0-8107-eba5f6d50aa7",
   "metadata": {},
   "outputs": [],
   "source": [
    "# FIND ROOT ELEMENT\n",
    "root_element = None\n",
    "alla = s.findAll('a')\n",
    "for a in alla:\n",
    "    if a.attrs.get('name') ==  \"music-genre-list\":\n",
    "        #print(a.parent.parent)\n",
    "        root_element = a.parent.parent.find('div')\n"
   ]
  },
  {
   "cell_type": "code",
   "execution_count": null,
   "id": "e6041bd7-4bcc-4c95-8d99-4a8930816716",
   "metadata": {},
   "outputs": [],
   "source": [
    "# filter unwanted stuff\n",
    "root_list = list(root_element)\n",
    "tentative_lists = list(filter(lambda x: (x != '\\n'), root_list)) \n",
    "\n",
    "print(len(tentative_lists[0]))\n",
    "print(len(tentative_lists[1]))\n",
    "l0 = tentative_lists[0]\n",
    "l1 = tentative_lists[1]\n",
    "ll = list(l0) + list(l1)"
   ]
  },
  {
   "cell_type": "code",
   "execution_count": 192,
   "id": "cee64e03-22ca-485d-88f9-46801e586915",
   "metadata": {},
   "outputs": [],
   "source": [
    "# FILTER\n",
    "tenative_dict = {}\n",
    "for item in ll:\n",
    "    #print(\"GENRRE\")\n",
    "    a = item.find('a')\n",
    "    if a == -1 or a is None:\n",
    "        continue\n",
    "    \n",
    "    title = a.attrs.get('title')\n",
    "    if title is None:\n",
    "        title = a.attrs.get('href')\n",
    "    tenative_dict[title] = item"
   ]
  },
  {
   "cell_type": "code",
   "execution_count": 274,
   "id": "06340970-f832-4926-8f62-9851ea2f701e",
   "metadata": {},
   "outputs": [],
   "source": [
    "def make_key(item):\n",
    "    key = item.text.encode(\"ascii\", \"ignore\").decode()\n",
    "    key = key.replace('\\n','')\n",
    "    return key\n",
    "\n",
    "def rec_parse(item):\n",
    "    if len(item) == 1:\n",
    "        return make_key(item),None\n",
    "    else:\n",
    "        l = {}\n",
    "        key = make_key(list(item)[0])\n",
    "        for sub_item in item.findAll('li'):\n",
    "            kk, vv =  rec_parse(sub_item)\n",
    "            #print(kk,vv)\n",
    "            l[kk] = vv \n",
    "        return key,l\n",
    "\n",
    "tentative_dict_v2 = {}\n",
    "for genre, item in tenative_dict.items():\n",
    "    if genre.endswith(' - Music Genre'):\n",
    "        genre = genre[0:-len(\" - Music Genre\")]\n",
    "    elif genre == \"https://www.musicgenreslist.com/metal-music-genre/\":\n",
    "        genre = \"Metal\"\n",
    "    sub = item.find('ul')\n",
    "    if sub is None:\n",
    "        continue\n",
    "    \n",
    "    subgenres = {}\n",
    "    for sub_item in item.findAll('li'):\n",
    "        key, value = rec_parse(sub_item)\n",
    "        subgenres[key] = value\n",
    "            \n",
    "        \n",
    "        \n",
    "    #li = [sub_item.text for sub_item in sub.findAll('li')]\n",
    "    #print(f\"{genre} #subgenre {len(li)}\")\n",
    "    tentative_dict_v2[genre] = subgenres"
   ]
  },
  {
   "cell_type": "code",
   "execution_count": 280,
   "id": "1b76b2ed-5d1a-4cc0-9785-dcc1eaa90b30",
   "metadata": {},
   "outputs": [],
   "source": [
    "tentative_dict_v2\n",
    "tentative_dict_v2['__meta__'] = {\n",
    "    \"credit\":[\n",
    "        \"the intial version of this list was parsed from https://www.musicgenreslist.com\",\n",
    "    ]\n",
    "}\n",
    "import json\n",
    "with open(\"assets/json/genres_v0.json\", \"w\") as f:\n",
    "    json.dump(tentative_dict_v2,f, indent=4)"
   ]
  },
  {
   "cell_type": "code",
   "execution_count": null,
   "id": "ea2cbb75-c52d-4df4-adfb-34328827a8ba",
   "metadata": {},
   "outputs": [],
   "source": []
  },
  {
   "cell_type": "code",
   "execution_count": null,
   "id": "431a7d61-a959-41c8-9a72-d213418fc459",
   "metadata": {},
   "outputs": [],
   "source": []
  }
 ],
 "metadata": {
  "kernelspec": {
   "display_name": "Python 3 (ipykernel)",
   "language": "python",
   "name": "python3"
  },
  "language_info": {
   "codemirror_mode": {
    "name": "ipython",
    "version": 3
   },
   "file_extension": ".py",
   "mimetype": "text/x-python",
   "name": "python",
   "nbconvert_exporter": "python",
   "pygments_lexer": "ipython3",
   "version": "3.11.0"
  }
 },
 "nbformat": 4,
 "nbformat_minor": 5
}
